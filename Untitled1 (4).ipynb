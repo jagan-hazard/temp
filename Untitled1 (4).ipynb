{
 "cells": [
  {
   "cell_type": "markdown",
   "metadata": {},
   "source": [
    "# Regular Expression Tutorial"
   ]
  },
  {
   "cell_type": "markdown",
   "metadata": {},
   "source": [
    "### What is Regular Expression ?\n",
    "   *  A regular expression is a **special sequence of characters** that helps you match or find **other strings or sets of strings**.\n",
    "   * The concept arose in the 1950s when the American mathematician Stephen Cole Kleene formalized the description of a regular language. \n",
    "   * The concept came into common use with Unix text-processing utilities. "
   ]
  },
  {
   "cell_type": "markdown",
   "metadata": {},
   "source": [
    "### Why Regular Expression ?\n",
    "   * Find \n",
    "   * Find and replace (subsitution)."
   ]
  },
  {
   "cell_type": "markdown",
   "metadata": {},
   "source": [
    "### Where it is used ?\n",
    "\t* Text processing tasks (string processing).\n",
    "\t* Data scrapping (web scrapping).\n",
    "\t* Parsing.\n",
    "\t* Syntax highlighting.\n",
    "\t* Internet search engine."
   ]
  },
  {
   "cell_type": "markdown",
   "metadata": {},
   "source": [
    "## Let's dive into Reg-ex !"
   ]
  },
  {
   "cell_type": "markdown",
   "metadata": {},
   "source": [
    "#### How to import Regex in python"
   ]
  },
  {
   "cell_type": "code",
   "execution_count": 17,
   "metadata": {},
   "outputs": [
    {
     "name": "stdout",
     "output_type": "stream",
     "text": [
      "['reg', 'reg', 'reg']\n"
     ]
    }
   ],
   "source": [
    "import re \n",
    "\n",
    "text=\"reg-ex is interesting reg2reg-6 topic to study!!!\"\n",
    "\n",
    "print(re.findall(\"reg\",text))"
   ]
  },
  {
   "cell_type": "markdown",
   "metadata": {},
   "source": [
    "# Regex special charecters\n",
    "\n",
    "2.1. Pattern:\n",
    "-----------------\n",
    "\t .    ->  matches any single charecter."
   ]
  },
  {
   "cell_type": "code",
   "execution_count": 30,
   "metadata": {
    "scrolled": true
   },
   "outputs": [
    {
     "name": "stdout",
     "output_type": "stream",
     "text": [
      "['r', 'e', 'g', '-', 'e', 'x', ' ', 'i', 's', ' ', 'i', 'n', 't', 'e', 'r', 'e', 's', 't', 'i', 'n', 'g', ' ', 't', 'o', 'p', 'i', 'c', ' ', 't', 'o', ' ', 's', 't', 'u', 'd', 'y', '!', '.']\n"
     ]
    }
   ],
   "source": [
    "import re \n",
    "\n",
    "text=\"reg-ex is interesting topic to study!.\"\n",
    "\n",
    "print(re.findall(\".\",text))"
   ]
  },
  {
   "cell_type": "code",
   "execution_count": 20,
   "metadata": {},
   "outputs": [
    {
     "name": "stdout",
     "output_type": "stream",
     "text": [
      "['reg-', 'ex i', 's in', 'tere', 'stin', 'g re', 'g2re', 'g-6 ', 'topi', 'c to', ' stu', 'dy!!']\n"
     ]
    }
   ],
   "source": [
    "print(re.findall(\"....\",text))"
   ]
  },
  {
   "cell_type": "code",
   "execution_count": 31,
   "metadata": {},
   "outputs": [
    {
     "name": "stdout",
     "output_type": "stream",
     "text": [
      "['reg-', 'ex i', 's in', 'tere', 'stin', 'g to', 'pic ', 'to s', 'tudy']\n"
     ]
    }
   ],
   "source": [
    "print(re.findall(\".{4}\",text))\n"
   ]
  },
  {
   "cell_type": "markdown",
   "metadata": {},
   "source": [
    "2.2. Metacharecter:\n",
    "----------------------------\n",
    "\n",
    "\t^\t\t\t-> starts with (each line that is after each '\\n')\n",
    "\t$\t     -> ends wit(each line that is before each '\\n')\n",
    "    ^....$\t\t-> starts and ends with (works till end of the line charecter) (inbetween size must be known)\n",
    "\t[]\t\t\t-> A set of charecters (optional match of each charecter)\n",
    "\t{}\t\t\t-> Exactly specific number of occurance  \n",
    "\t|\t\t\t-> Either or\n",
    "\t()\t\t\t-> Capture and Group (each charecter is matched)."
   ]
  },
  {
   "cell_type": "code",
   "execution_count": 2,
   "metadata": {},
   "outputs": [
    {
     "name": "stdout",
     "output_type": "stream",
     "text": [
      "[]\n"
     ]
    }
   ],
   "source": [
    "import re \n",
    "print(re.findall(\"^reg.{10}\",text))"
   ]
  },
  {
   "cell_type": "code",
   "execution_count": 27,
   "metadata": {},
   "outputs": [
    {
     "name": "stdout",
     "output_type": "stream",
     "text": [
      "[]\n"
     ]
    }
   ],
   "source": [
    "print(re.findall(\"$.{10}\",text))"
   ]
  },
  {
   "cell_type": "code",
   "execution_count": 35,
   "metadata": {},
   "outputs": [
    {
     "name": "stdout",
     "output_type": "stream",
     "text": [
      "[' to study!.']\n"
     ]
    }
   ],
   "source": [
    "print(re.findall(\".{10}.$\",text))"
   ]
  },
  {
   "cell_type": "code",
   "execution_count": 5,
   "metadata": {},
   "outputs": [
    {
     "name": "stdout",
     "output_type": "stream",
     "text": [
      "['SAP=101501', 'SAP=101502', 'SAP=101508', 'SAP=101509']\n"
     ]
    }
   ],
   "source": [
    "text =\"\"\"SAP=101501\n",
    "\n",
    "SAP=101502\n",
    "\n",
    "SAP=101508\n",
    "\n",
    "SAP=101509\n",
    "\"\"\"\n",
    "print(re.findall(\"(S...{3,})\",text))"
   ]
  },
  {
   "cell_type": "code",
   "execution_count": 153,
   "metadata": {},
   "outputs": [
    {
     "name": "stdout",
     "output_type": "stream",
     "text": [
      "['bat', ' at', 'cat', 'cat', 'eat', 'bat', ' at']\n",
      "['bat', 'cat', 'cat', 'eat', 'bat']\n"
     ]
    }
   ],
   "source": [
    "text=\"bat ate cat  but cat won't eat bat at any cost!!!\"\n",
    "print(re.findall(\".at\",text))\n",
    "print(re.findall(\"[a-z]+at[a-z]?\",text))"
   ]
  },
  {
   "cell_type": "code",
   "execution_count": 149,
   "metadata": {},
   "outputs": [
    {
     "name": "stdout",
     "output_type": "stream",
     "text": [
      "['bat ', 'ate', 'cat ', 'cat ', 'eat ', 'bat ', 'at ']\n",
      "['bat', 'cat', 'cat', 'eat', 'bat']\n"
     ]
    }
   ],
   "source": [
    "\n",
    "print(re.findall(\"(.?at.?)\",text))\n",
    "print(re.findall(\"([a-z]+at[a-z]?)\",text))"
   ]
  },
  {
   "cell_type": "code",
   "execution_count": 24,
   "metadata": {},
   "outputs": [
    {
     "name": "stdout",
     "output_type": "stream",
     "text": [
      "['somebody@hcl.com', 'name10@hcl.com']\n"
     ]
    }
   ],
   "source": [
    "text=\" somebody@hcl.com, someone@wipro.com,somename@cts.com, name10@hcl.com\"\n",
    "print(re.findall(\"([a-z0-9]{2,}@hcl.com)\",text))"
   ]
  },
  {
   "cell_type": "code",
   "execution_count": 26,
   "metadata": {},
   "outputs": [
    {
     "name": "stdout",
     "output_type": "stream",
     "text": [
      "['@hcl.com', '@wipro.com', '@cts.com']\n"
     ]
    }
   ],
   "source": [
    "text=\" somebody@hcl.com, someone@wipro.com,somename@cts.com\"\n",
    "print(re.findall(\"(@[a-z0-9]{3,}\\.com)\",text))"
   ]
  },
  {
   "cell_type": "code",
   "execution_count": 29,
   "metadata": {},
   "outputs": [
    {
     "name": "stdout",
     "output_type": "stream",
     "text": [
      "['cat', 'bat', 'aat', 'dat', 'eat']\n",
      "['cat', 'bat', 'aat', 'dat', 'eat']\n"
     ]
    }
   ],
   "source": [
    "text =\" cat mat bat sat vat yat wat uat rat pat hat aat dat eat \"\n",
    "print(re.findall(\"[a,b,c,d,e]at\",text))\n",
    "print(re.findall(\"[a|b|c|d|e]at\",text))"
   ]
  },
  {
   "cell_type": "markdown",
   "metadata": {},
   "source": [
    "\n",
    "2.3. Quantifiers:\n",
    "-----------------\n",
    "\n",
    "\tabc*\t\t-> match string 'ab' followed by zero or more 'c'\n",
    "\tabc+\t\t-> match string 'ab' followed by one or more 'c'\n",
    "\tabc?\t\t-> match string 'ab' followed by zero or one 'c'\n",
    "\tabc{2}\t\t-> match string 'ab' followed by two 'c'\n",
    "\tabc{2,}\t\t-> match string 'ab' followed by atleast two or more 'c'\n",
    "\tabc{2,5}\t-> match string 'ab' followed by two to five 'c'\n",
    "\ta(bc)*\t\t-> match string 'a' followed by zero or more copies of sequence 'bc'\n"
   ]
  },
  {
   "cell_type": "code",
   "execution_count": 66,
   "metadata": {},
   "outputs": [],
   "source": [
    "text=\"abcabcabcccccabccabcabcabcbcbcabcabcabcabcababcbcacb\""
   ]
  },
  {
   "cell_type": "code",
   "execution_count": 37,
   "metadata": {},
   "outputs": [
    {
     "name": "stdout",
     "output_type": "stream",
     "text": [
      "['abc', 'abc', 'abccccc', 'abcc', 'abc', 'abc', 'abc', 'abc', 'abc', 'abc', 'abc', 'ab', 'ab']\n"
     ]
    }
   ],
   "source": [
    "print(re.findall(\"abc*\",text))"
   ]
  },
  {
   "cell_type": "code",
   "execution_count": 38,
   "metadata": {},
   "outputs": [
    {
     "name": "stdout",
     "output_type": "stream",
     "text": [
      "['abc', 'abc', 'abccccc', 'abcc', 'abc', 'abc', 'abc', 'abc', 'abc', 'abc', 'abc']\n"
     ]
    }
   ],
   "source": [
    "print(re.findall(\"abc+\",text))"
   ]
  },
  {
   "cell_type": "code",
   "execution_count": 39,
   "metadata": {},
   "outputs": [
    {
     "name": "stdout",
     "output_type": "stream",
     "text": [
      "['abc', 'abc', 'abc', 'abc', 'abc', 'abc', 'abc', 'abc', 'abc', 'abc', 'abc', 'ab', 'ab']\n"
     ]
    }
   ],
   "source": [
    "print(re.findall(\"abc?\",text))"
   ]
  },
  {
   "cell_type": "code",
   "execution_count": 40,
   "metadata": {},
   "outputs": [
    {
     "name": "stdout",
     "output_type": "stream",
     "text": [
      "['abcc', 'abcc']\n"
     ]
    }
   ],
   "source": [
    "print(re.findall(\"abc{2}\",text))"
   ]
  },
  {
   "cell_type": "code",
   "execution_count": 41,
   "metadata": {},
   "outputs": [
    {
     "name": "stdout",
     "output_type": "stream",
     "text": [
      "['abccccc', 'abcc']\n"
     ]
    }
   ],
   "source": [
    "print(re.findall(\"abc{2,}\",text))"
   ]
  },
  {
   "cell_type": "code",
   "execution_count": 42,
   "metadata": {},
   "outputs": [
    {
     "name": "stdout",
     "output_type": "stream",
     "text": [
      "['abccccc', 'abcc']\n"
     ]
    }
   ],
   "source": [
    "print(re.findall(\"abc{2,5}\",text))"
   ]
  },
  {
   "cell_type": "code",
   "execution_count": 43,
   "metadata": {},
   "outputs": [
    {
     "name": "stdout",
     "output_type": "stream",
     "text": [
      "['bc', 'bc', 'bc', 'bc', 'bc', 'bc', 'bc', 'bc', 'bc', 'bc', 'bc', '', '']\n"
     ]
    }
   ],
   "source": [
    "print(re.findall(\"a(bc)*\",text))"
   ]
  },
  {
   "cell_type": "markdown",
   "metadata": {},
   "source": [
    "2.4. Operator:\n",
    "--------------\n",
    "\n",
    "\ta(b|c)      -> 'a' followed by 'b' or 'c'\n",
    "\ta[b|c]\t\t-> 'a' followed by 'b' or 'c'"
   ]
  },
  {
   "cell_type": "code",
   "execution_count": 68,
   "metadata": {},
   "outputs": [
    {
     "name": "stdout",
     "output_type": "stream",
     "text": [
      "['b', 'b', 'b', 'b', 'b', 'b', 'b', 'b', 'b', 'b', 'b', 'b', 'b', 'c']\n"
     ]
    }
   ],
   "source": [
    "print(re.findall(\"a(b|c)\",text))"
   ]
  },
  {
   "cell_type": "code",
   "execution_count": 69,
   "metadata": {},
   "outputs": [
    {
     "name": "stdout",
     "output_type": "stream",
     "text": [
      "[('ab', 'b'), ('ab', 'b'), ('ab', 'b'), ('ab', 'b'), ('ab', 'b'), ('ab', 'b'), ('ab', 'b'), ('ab', 'b'), ('ab', 'b'), ('ab', 'b'), ('ab', 'b'), ('ab', 'b'), ('ab', 'b'), ('ac', 'c')]\n"
     ]
    }
   ],
   "source": [
    "print(re.findall(\"(a(b|c))\",text))"
   ]
  },
  {
   "cell_type": "code",
   "execution_count": 71,
   "metadata": {},
   "outputs": [
    {
     "name": "stdout",
     "output_type": "stream",
     "text": [
      "['ab', 'ab', 'ab', 'ab', 'ab', 'ab', 'ab', 'ab', 'ab', 'ab', 'ab', 'ab', 'ab', 'ac']\n"
     ]
    }
   ],
   "source": [
    "print(re.findall(\"a[b|c]\",text))"
   ]
  },
  {
   "cell_type": "code",
   "execution_count": 74,
   "metadata": {},
   "outputs": [
    {
     "name": "stdout",
     "output_type": "stream",
     "text": [
      "['abc', 'abc', 'abc', 'abc', 'abc', 'abc', 'abc', 'abc', 'abc', 'abc', 'abc', 'abc', 'acb']\n"
     ]
    }
   ],
   "source": [
    "print(re.findall(\"a[bc]\",text))"
   ]
  },
  {
   "cell_type": "code",
   "execution_count": 77,
   "metadata": {},
   "outputs": [
    {
     "name": "stdout",
     "output_type": "stream",
     "text": [
      "['abc', 'abc', 'abc', 'abc', 'abc', 'abc', 'abc', 'abc', 'abc', 'abc', 'abc', 'abc', 'acb']\n"
     ]
    }
   ],
   "source": [
    "print(re.findall(\"a[bc][bc]\",text))"
   ]
  },
  {
   "cell_type": "markdown",
   "metadata": {},
   "source": [
    "2.5. special charecters:\n",
    "---------------------------------\n",
    "\tIn general. if you use backslash '\\' before any charecter, then this will remove the property of special charecter.\n",
    "\t\\A          -> matches at the start of string alone. \n",
    "\t\\n          -> looks for a newline   \n",
    "\t\\t          -> looks for a tab\n",
    "\t\\b          -> matches word boundary (skip whitespaces)\n",
    "\t\\B          -> matches no word boundary \n",
    "\t\\w          -> matches any alphaneumeric/word charecter (i.e. [a-zA-Z0-9])\n",
    "\t\\W          -> matches any non-word charecter (i.e. [^a-zA-Z0-9])\n",
    "\t\\d          -> matches any digit  (i.e. [0-9])\n",
    "\t\\D          -> matches any non-digit  (i.e. [^0-9])\n",
    "\t\\s          -> matches whitespace charecters\n",
    "\t\\S          -> matches non-whitespace charecters\n",
    "\t\\.          -> looks for '.'\n",
    "\t\\Z          -> matches at the end of string alone."
   ]
  },
  {
   "cell_type": "markdown",
   "metadata": {},
   "source": [
    "2.6. Lookarounds:\n",
    "--------------------------\n",
    "   * Lookarounds are zero width assertions.\n",
    "   * They check for a regex (towards right or left of the current position - based on ahead or behind).\n",
    "   * They don't consume any character - the matching for regex following them (if any), will start at the same cursor position.\n",
    "   * Four types\n",
    "       -   Positive Look-ahead.\n",
    "       -  Negative Look-ahead.\n",
    "       - Positive Look-behind.\n",
    "       -  Negative Look-behind."
   ]
  },
  {
   "cell_type": "code",
   "execution_count": 3,
   "metadata": {},
   "outputs": [],
   "source": []
  },
  {
   "cell_type": "markdown",
   "metadata": {},
   "source": [
    "checking it"
   ]
  }
 ],
 "metadata": {
  "kernelspec": {
   "display_name": "Python 3",
   "language": "python",
   "name": "python3"
  },
  "language_info": {
   "codemirror_mode": {
    "name": "ipython",
    "version": 3
   },
   "file_extension": ".py",
   "mimetype": "text/x-python",
   "name": "python",
   "nbconvert_exporter": "python",
   "pygments_lexer": "ipython3",
   "version": "3.7.3"
  }
 },
 "nbformat": 4,
 "nbformat_minor": 2
}
